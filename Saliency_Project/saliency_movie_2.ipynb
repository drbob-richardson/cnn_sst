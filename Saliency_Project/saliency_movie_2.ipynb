{
 "cells": [
  {
   "cell_type": "code",
   "execution_count": 11,
   "metadata": {},
   "outputs": [
    {
     "name": "stderr",
     "output_type": "stream",
     "text": [
      "IMAGEIO FFMPEG_WRITER WARNING: input image is not divisible by macro_block_size=16, resizing from (800, 600) to (800, 608) to ensure video compatibility with most codecs and players. To prevent resizing, make your input image divisible by the macro_block_size or set the macro_block_size to 1 (risking incompatibility).\n"
     ]
    },
    {
     "name": "stdout",
     "output_type": "stream",
     "text": [
      "Video saved as saliency_movie.mp4\n"
     ]
    }
   ],
   "source": [
    "import os\n",
    "import imageio.v2 as imageio\n",
    "\n",
    "# Define the directories containing saliency images\n",
    "directories = [\"saliency_plots\", \"saliency_plots2\"]\n",
    "\n",
    "# Output video file name\n",
    "output_file = \"saliency_movie.mp4\"\n",
    "\n",
    "# Initialize variables for the images\n",
    "images = []\n",
    "\n",
    "# Collect all images from both directories in order\n",
    "for directory in directories:\n",
    "    for i in range(1, 19):  # Assumes folder names are lead_1, lead_2, ..., lead_18\n",
    "        subfolder = os.path.join(directory, f\"lead_{i}\")\n",
    "        image_path = os.path.join(subfolder, f\"saliency_lead_{i}.png\")\n",
    "        if os.path.exists(image_path):\n",
    "            images.append(image_path)\n",
    "\n",
    "# Read images and create a video\n",
    "frames = [imageio.imread(image) for image in images]\n",
    "imageio.mimsave(output_file, frames, fps=1)  # 1 frame per second\n",
    "\n",
    "print(f\"Video saved as {output_file}\")\n"
   ]
  }
 ],
 "metadata": {
  "kernelspec": {
   "display_name": "Python 3",
   "language": "python",
   "name": "python3"
  },
  "language_info": {
   "codemirror_mode": {
    "name": "ipython",
    "version": 3
   },
   "file_extension": ".py",
   "mimetype": "text/x-python",
   "name": "python",
   "nbconvert_exporter": "python",
   "pygments_lexer": "ipython3",
   "version": "3.9.6"
  }
 },
 "nbformat": 4,
 "nbformat_minor": 2
}
