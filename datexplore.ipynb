{
 "cells": [
  {
   "cell_type": "code",
   "execution_count": 7,
   "metadata": {},
   "outputs": [],
   "source": [
    "import xarray as xr\n",
    "\n",
    "\n",
    "# Load the NetCDF file\n",
    "file_path = \"sst.mon.mean-2.nc\"  # Replace with the path to your file\n",
    "dataset = xr.open_dataset(file_path)"
   ]
  },
  {
   "cell_type": "code",
   "execution_count": 8,
   "metadata": {},
   "outputs": [
    {
     "name": "stdout",
     "output_type": "stream",
     "text": [
      "Dataset Summary:\n",
      "<xarray.Dataset> Size: 412MB\n",
      "Dimensions:  (lat: 180, lon: 360, time: 1590)\n",
      "Coordinates:\n",
      "  * lat      (lat) float32 720B 89.5 88.5 87.5 86.5 ... -86.5 -87.5 -88.5 -89.5\n",
      "  * lon      (lon) float32 1kB 0.5 1.5 2.5 3.5 4.5 ... 356.5 357.5 358.5 359.5\n",
      "  * time     (time) datetime64[ns] 13kB 1891-01-01 1891-02-01 ... 2023-06-01\n",
      "Data variables:\n",
      "    sst      (time, lat, lon) float32 412MB ...\n",
      "Attributes:\n",
      "    title:            COBE Sea Surface Temperature Analysis\n",
      "    history:          created June 2011 at ESRL/PSD using the grib data from ...\n",
      "    platform:         Analyses\n",
      "    original_source:  http://near-goos1.jodc.go.jp/cgi-bin/1997/near_goos_cat...\n",
      "    Conventions:      CF-1.2\n",
      "    institution:      NOAA ESRL/PSD\n",
      "    comment:          recent values (w/i last year) may change as dataset is ...\n",
      "    dataset_title:    COBE Sea Surface Temperature\n",
      "    References:       https://www.psl.noaa.gov/data/gridded/data.cobe.html\n"
     ]
    }
   ],
   "source": [
    "# Print the dataset summary\n",
    "print(\"Dataset Summary:\")\n",
    "print(dataset)"
   ]
  },
  {
   "cell_type": "code",
   "execution_count": 9,
   "metadata": {},
   "outputs": [
    {
     "name": "stdout",
     "output_type": "stream",
     "text": [
      "\n",
      "Variables and Dimensions:\n",
      "Variable: lat\n",
      "  Dimensions: ('lat',)\n",
      "  Shape: (180,)\n",
      "  Attributes: {'units': 'degrees_north', 'long_name': 'Latitude', 'actual_range': array([ 89.5, -89.5], dtype=float32), 'axis': 'Y', 'standard_name': 'latitude'}\n",
      "\n",
      "Variable: lon\n",
      "  Dimensions: ('lon',)\n",
      "  Shape: (360,)\n",
      "  Attributes: {'units': 'degrees_east', 'long_name': 'Longitude', 'actual_range': array([  0.5, 359.5], dtype=float32), 'axis': 'X', 'standard_name': 'longitude'}\n",
      "\n",
      "Variable: time\n",
      "  Dimensions: ('time',)\n",
      "  Shape: (1590,)\n",
      "  Attributes: {'long_name': 'Time', 'delta_t': '0000-01-00 00:00:00', 'avg_period': '0000-01-00 00:00:00', 'prev_avg_period': '0000-00-01 00:00:00', 'axis': 'T', 'standard_name': 'time', 'coordinate_defines': 'start', 'actual_range': array([    0., 48363.])}\n",
      "\n",
      "Variable: sst\n",
      "  Dimensions: ('time', 'lat', 'lon')\n",
      "  Shape: (1590, 180, 360)\n",
      "  Attributes: {'long_name': 'Monthly Means of Global Sea Surface Temperature', 'valid_range': array([-5., 40.], dtype=float32), 'units': 'degC', 'var_desc': 'Sea Surface Temperature', 'dataset': 'COBE Sea Surface Temperature', 'level_desc': 'Surface', 'statistic': 'Mean', 'parent_stat': 'Individual obs', 'actual_range': array([-1.7999996, 34.87     ], dtype=float32)}\n",
      "\n"
     ]
    }
   ],
   "source": [
    "# List all variables and dimensions\n",
    "print(\"\\nVariables and Dimensions:\")\n",
    "for var in dataset.variables:\n",
    "    print(f\"Variable: {var}\")\n",
    "    print(f\"  Dimensions: {dataset[var].dims}\")\n",
    "    print(f\"  Shape: {dataset[var].shape}\")\n",
    "    print(f\"  Attributes: {dataset[var].attrs}\")\n",
    "    print()"
   ]
  },
  {
   "cell_type": "code",
   "execution_count": 10,
   "metadata": {},
   "outputs": [
    {
     "name": "stdout",
     "output_type": "stream",
     "text": [
      "\n",
      "Global Attributes:\n",
      "title: COBE Sea Surface Temperature Analysis\n",
      "history: created June 2011 at ESRL/PSD using the grib data from JRA.\n",
      "platform: Analyses\n",
      "original_source: http://near-goos1.jodc.go.jp/cgi-bin/1997/near_goos_catalog?projectname=NEAR-GOOS\n",
      "Conventions: CF-1.2\n",
      "institution: NOAA ESRL/PSD\n",
      "comment: recent values (w/i last year) may change as dataset is updated. It is a monitoring dataset.\n",
      "dataset_title: COBE Sea Surface Temperature\n",
      "References: https://www.psl.noaa.gov/data/gridded/data.cobe.html\n"
     ]
    }
   ],
   "source": [
    "# Check global attributes (metadata)\n",
    "print(\"\\nGlobal Attributes:\")\n",
    "for attr, value in dataset.attrs.items():\n",
    "    print(f\"{attr}: {value}\")"
   ]
  },
  {
   "cell_type": "code",
   "execution_count": 11,
   "metadata": {},
   "outputs": [
    {
     "name": "stdout",
     "output_type": "stream",
     "text": [
      "\n",
      "Exploring the 'sst' variable:\n",
      "<xarray.DataArray 'sst' (time: 1590, lat: 180, lon: 360)> Size: 412MB\n",
      "[103032000 values with dtype=float32]\n",
      "Coordinates:\n",
      "  * lat      (lat) float32 720B 89.5 88.5 87.5 86.5 ... -86.5 -87.5 -88.5 -89.5\n",
      "  * lon      (lon) float32 1kB 0.5 1.5 2.5 3.5 4.5 ... 356.5 357.5 358.5 359.5\n",
      "  * time     (time) datetime64[ns] 13kB 1891-01-01 1891-02-01 ... 2023-06-01\n",
      "Attributes:\n",
      "    long_name:     Monthly Means of Global Sea Surface Temperature\n",
      "    valid_range:   [-5. 40.]\n",
      "    units:         degC\n",
      "    var_desc:      Sea Surface Temperature\n",
      "    dataset:       COBE Sea Surface Temperature\n",
      "    level_desc:    Surface\n",
      "    statistic:     Mean\n",
      "    parent_stat:   Individual obs\n",
      "    actual_range:  [-1.7999996 34.87     ]\n",
      "\n",
      "SST Attributes:\n",
      "long_name: Monthly Means of Global Sea Surface Temperature\n",
      "valid_range: [-5. 40.]\n",
      "units: degC\n",
      "var_desc: Sea Surface Temperature\n",
      "dataset: COBE Sea Surface Temperature\n",
      "level_desc: Surface\n",
      "statistic: Mean\n",
      "parent_stat: Individual obs\n",
      "actual_range: [-1.7999996 34.87     ]\n"
     ]
    }
   ],
   "source": [
    "# Explore a specific variable (e.g., SST if it exists)\n",
    "if 'sst' in dataset:\n",
    "    print(\"\\nExploring the 'sst' variable:\")\n",
    "    print(dataset['sst'])\n",
    "    print(\"\\nSST Attributes:\")\n",
    "    for attr, value in dataset['sst'].attrs.items():\n",
    "        print(f\"{attr}: {value}\")\n",
    "else:\n",
    "    print(\"\\nNo 'sst' variable found in the dataset.\")\n"
   ]
  },
  {
   "cell_type": "code",
   "execution_count": null,
   "metadata": {},
   "outputs": [],
   "source": []
  }
 ],
 "metadata": {
  "kernelspec": {
   "display_name": "Python 3",
   "language": "python",
   "name": "python3"
  },
  "language_info": {
   "codemirror_mode": {
    "name": "ipython",
    "version": 3
   },
   "file_extension": ".py",
   "mimetype": "text/x-python",
   "name": "python",
   "nbconvert_exporter": "python",
   "pygments_lexer": "ipython3",
   "version": "3.9.6"
  }
 },
 "nbformat": 4,
 "nbformat_minor": 2
}
